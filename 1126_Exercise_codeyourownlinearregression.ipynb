{
 "cells": [
  {
   "cell_type": "markdown",
   "metadata": {},
   "source": [
    "# Coding Your Own Linear Regression Model\n",
    "\n",
    "### <i>Matthew Holden (mjh140) and Divya Sharma (ds655)</i>\n",
    "\n",
    "One task that you will almost certainly be required to do other data science courses (especially if you are a MIDS student) is to write up some of your statistical / machine learning models from scratch. This can be a very valuable exercise, as it ensures that you understand what is actually going on behind the scenes of the models you use ever day, and that you don't just think of them as \"black boxes\". \n",
    "\n",
    "To get a little practice doing this, today you will be coding up your own linear regression model! \n",
    "\n",
    "(If you are using this site but aren't actually in this class, you are welcome to skip this exercise if you'd like -- this is more about practicing Python in anticipation of the requirements of other courses than developing your applied data science skills.) \n",
    "\n",
    "There are, broadly speaking, two approaches you can take to coding up your own model: \n",
    "\n",
    "1. you can write the model by defining a new function, or \n",
    "2. you can write the model by defining a new class with associated methods (making a model that works the way a model works in `scikit-learn`). \n",
    "\n",
    "Whether you do 1 or 2 is very much a matter of choice and style. Approach one, for example, is more consistent with what is called a *functional* style of programming, while approach two is more consistent with an *object-oriented* style of programming. Python can readily support both approaches, so either would work fine. \n",
    "\n",
    "In these exercises, however, I will ask you to use approach number 2 as this *tends* to be the more difficult approach, and so practicing approach 2 will be extra useful in preparing you for other classes (HA! Pun...). In particular, our goal is to implement a linear regression model that has the same \"initialize-fit-predict-score\" API (application programming interface -- a fancy name for the methods a class supports) as `scikit-learn` models. That means your model should be able to do all of the following:\n",
    "\n",
    "1. **Initialize** a new model. \n",
    "2. **Fit** a linear model when given a numpy vector (`y`) and a numpy matrix (`X`) with the syntax `my_model.fit(X, y)`. \n",
    "3. **Predict** values when given a new `numpy` matrix (`X_test`) with the syntax `my_model.predict(X_test)`. \n",
    "4. Return the **model coefficients** through the property `my_model.coefficients` (not quite what is used in `sklearn`, but let's use that interface). \n",
    "\n",
    "Also, bear in mind that throughout these exercises, we'll be working in `numpy` instead of `pandas`, just as we do in `scikit-learn`. So assume that before using your model, your user has already converted their data from `pandas` into `numpy` arrays. "
   ]
  },
  {
   "cell_type": "code",
   "execution_count": 1,
   "metadata": {},
   "outputs": [],
   "source": [
    "import numpy as np\n",
    "\n",
    "np.random.seed(6795)"
   ]
  },
  {
   "cell_type": "markdown",
   "metadata": {},
   "source": [
    "**(1)** Define a new Class called `MyLinearModel` with methods for `__init__`, `fit`, `predict`, and an attribute for `coefficients`. For now, we don't need any initialization *arguments*, just an `__init__` function. \n",
    "\n",
    "As you get your code outline going, start by just having each method `pass`:\n",
    "\n",
    "```python\n",
    "def my_method(self):\n",
    "    pass\n",
    "```\n",
    "\n",
    "This will allow your methods to run without errors (they just don't do anything). Then we can double back to each method to get them working one by one."
   ]
  },
  {
   "cell_type": "code",
   "execution_count": 2,
   "metadata": {},
   "outputs": [],
   "source": [
    "class MyLinearModel:\n",
    "    def __init__(self):\n",
    "        # To initialize the variables that we will use\n",
    "        self.coefficients = None\n",
    "\n",
    "    def fit(self, X, y):\n",
    "        # To fit the model\n",
    "        pass\n",
    "\n",
    "    def predict(self, X):\n",
    "        # To predict the output based on the trained model/coefficient values\n",
    "        pass"
   ]
  },
  {
   "cell_type": "markdown",
   "metadata": {},
   "source": [
    "**(2)** Now define your `fit` method. This is the method that should actually run your linear regression. In case you've forgotten your linear algebra, remember that for linear regressions, $\\beta = (X'X)^{-1}X'Y$, a fact you can see explained in detail on page four [here](https://www.stat.purdue.edu/~boli/stat512/lectures/topic3.pdf).\n",
    "\n",
    "Note that once you have written the code to do a linear regression, you'll need to put your outputs (your coefficents) somewhere. I recommend making an attribute for your class where you can store your coefficients. \n",
    "\n",
    "(As a reminder: the normal multiply operator (`*`) in `numpy` implies scalar multiplication. Use `@` for matrix multiplication). \n",
    "\n",
    "**HINT:** Remember that linear regressions require a vector of 1s in the `X` matrix. As the package writer, you get to decide whether users are expected to provide a matrix `X` that already has a vector of 1s, or whether you expect the user to provide a matrix `X` that doesn't have a vector of 1s (in which case you will need to add a vector of 1s before you fit the model)."
   ]
  },
  {
   "cell_type": "code",
   "execution_count": 3,
   "metadata": {},
   "outputs": [],
   "source": [
    "class MyLinearModel:\n",
    "    def __init__(self):\n",
    "        # To initialize the variables that we will use\n",
    "        self.coefficients = None\n",
    "\n",
    "    def fit(self, X, y):\n",
    "        # To fit the model\n",
    "        # Adding a column of ones to include an intercept in the model - this will be dynamic based on the value of X passed\n",
    "        X = np.concatenate([np.ones((X.shape[0], 1)), X], axis=1)\n",
    "\n",
    "        # Getting the coefficients using the matrix multiplication (using linalg.inv for inverting the matrix)\n",
    "        self.coefficients = np.linalg.inv(X.T @ X) @ X.T @ y\n",
    "\n",
    "        pass\n",
    "\n",
    "    def predict(self, X):\n",
    "        pass  # To be implemented"
   ]
  },
  {
   "cell_type": "markdown",
   "metadata": {},
   "source": [
    "**(3)** As you write code, it is good to test your code as you work. With that in mind, let's create some toy data. First, create a 100 x 2 matrix where each column is normally distributed. Then create a vector `y` that is a linear combination of those two columns **plus** a vector of normally distributed noise **and** a constant term. \n",
    "\n",
    "In other words, we want to create data where we *know* exactly what coefficients we should see so when we test our regression, we know if the results are accurate!"
   ]
  },
  {
   "cell_type": "code",
   "execution_count": 4,
   "metadata": {},
   "outputs": [],
   "source": [
    "# Creating a 100 x 2 matrix with normally distributed random numbers\n",
    "X = np.random.normal(size=(100, 2))\n",
    "\n",
    "# Defining the coefficients for the linear combination\n",
    "real_coefficients = np.array([2, 5])\n",
    "\n",
    "# Defining the constant term\n",
    "constant = 7\n",
    "\n",
    "# Create y as a linear combination of X's columns plus normally distributed noise\n",
    "y = X @ real_coefficients + constant + np.random.normal(size=100)"
   ]
  },
  {
   "cell_type": "markdown",
   "metadata": {},
   "source": [
    "**(4)** Now test whether you `fit` method generates the correct coefficients. Remember the choice you made in Question 2 about whether your package expects the users' `X` matrix to include a vector of 1s when you test!"
   ]
  },
  {
   "cell_type": "code",
   "execution_count": 5,
   "metadata": {},
   "outputs": [],
   "source": [
    "# Creating a function to run the model and return the model object\n",
    "def RunMyLinearModel(X, y):\n",
    "    # Creating an object of MyLinearModel\n",
    "    model = MyLinearModel()\n",
    "\n",
    "    # Fitting the model\n",
    "    model.fit(X, y)\n",
    "\n",
    "    return model"
   ]
  },
  {
   "cell_type": "code",
   "execution_count": 6,
   "metadata": {},
   "outputs": [
    {
     "name": "stdout",
     "output_type": "stream",
     "text": [
      "Predicted Coefficients: [6.89106201 2.01147004 5.0747134 ]\n",
      "Actual Coefficients: [7, 2, 5]\n"
     ]
    }
   ],
   "source": [
    "# Fitting the model to the data\n",
    "model = RunMyLinearModel(X, y)\n",
    "\n",
    "# Printing the coefficients\n",
    "print(\"Predicted Coefficients:\", model.coefficients)\n",
    "print(\"Actual Coefficients:\", [constant] + real_coefficients.tolist())"
   ]
  },
  {
   "cell_type": "markdown",
   "metadata": {},
   "source": [
    "> These values are pretty close to the real values (6.89 instead of 7, 2.01 for 2 and 5.07 for 5)"
   ]
  },
  {
   "cell_type": "markdown",
   "metadata": {},
   "source": [
    "**(5)** Now let's make the statisticians proud, and in addition to storing the coefficients, let's store the standard errors for our estimated coefficients as another attribute. Recall that the simplest method of calculating the variance covariance matrix for $\\beta$ is using the formula $\\sigma^2 (X'X)^{-1}$, where $\\sigma^2$ is the variance of the error terms of your regression. The standard errors for your coefficient estimates will be the diagonal values of that matrix. See page six [here](https://www.stat.purdue.edu/~boli/stat512/lectures/topic3.pdf) for a full derivation. "
   ]
  },
  {
   "cell_type": "code",
   "execution_count": 7,
   "metadata": {},
   "outputs": [],
   "source": [
    "class MyLinearModel:\n",
    "    def __init__(self):\n",
    "        # To initialize the variables that we will use\n",
    "        self.coefficients = None\n",
    "        self.std_err = None\n",
    "\n",
    "    def fit(self, X, y):\n",
    "        # To fit the model\n",
    "        # Adding a column of ones to include an intercept in the model - this will be dynamic based on the value of X passed\n",
    "        X = np.concatenate([np.ones((X.shape[0], 1)), X], axis=1)\n",
    "\n",
    "        # Getting the coefficients using the matrix multiplication (using linalg.inv for inverting the matrix)\n",
    "        self.coefficients = np.linalg.solve(X.T @ X, X.T @ y)\n",
    "\n",
    "        # Calculating the residuals\n",
    "        residuals = y - X @ self.coefficients\n",
    "\n",
    "        # Calculating the variance of the error terms\n",
    "        sigma_sq = np.var(residuals, ddof=X.shape[1])\n",
    "\n",
    "        # Calculating the standard errors of the estimated coefficients\n",
    "        self.std_err = np.sqrt(np.diag(sigma_sq * np.linalg.inv(X.T @ X)))\n",
    "        pass\n",
    "\n",
    "    def predict(self, X):\n",
    "        pass  # To be implemented"
   ]
  },
  {
   "cell_type": "code",
   "execution_count": 8,
   "metadata": {},
   "outputs": [
    {
     "name": "stdout",
     "output_type": "stream",
     "text": [
      "Predicted Coefficients: [6.89106201 2.01147004 5.0747134 ]\n",
      "Actual Coefficients: [7, 2, 5]\n",
      "Standard Error Values: [0.12393877 0.12807298 0.12906425]\n"
     ]
    }
   ],
   "source": [
    "# Fitting the model to the data\n",
    "model = RunMyLinearModel(X, y)\n",
    "\n",
    "# Printing the values generated\n",
    "print(\"Predicted Coefficients:\", model.coefficients)\n",
    "print(\"Actual Coefficients:\", [constant] + real_coefficients.tolist())\n",
    "print(\"Standard Error Values:\", model.std_err)"
   ]
  },
  {
   "cell_type": "markdown",
   "metadata": {},
   "source": [
    "**(6)** Now let's also add an R-squared attribute to the model."
   ]
  },
  {
   "cell_type": "code",
   "execution_count": 9,
   "metadata": {},
   "outputs": [],
   "source": [
    "class MyLinearModel:\n",
    "    def __init__(self):\n",
    "        # To initialize the variables that we will use\n",
    "        self.coefficients = None\n",
    "        self.std_err = None\n",
    "        self.r_squared = None\n",
    "\n",
    "    def fit(self, X, y):\n",
    "        # To fit the model\n",
    "        # Adding a column of ones to include an intercept in the model - this will be dynamic based on the value of X passed\n",
    "        X = np.concatenate([np.ones((X.shape[0], 1)), X], axis=1)\n",
    "\n",
    "        # Getting the coefficients using the matrix multiplication (using linalg.inv for inverting the matrix)\n",
    "        self.coefficients = np.linalg.solve(X.T @ X, X.T @ y)\n",
    "\n",
    "        # Calculating the residuals\n",
    "        residuals = y - X @ self.coefficients\n",
    "\n",
    "        # Calculating the variance of the error terms\n",
    "        sigma_sq = np.var(residuals, ddof=X.shape[1])\n",
    "\n",
    "        # Calculating the standard errors of the estimated coefficients\n",
    "        self.std_err = np.sqrt(np.diag(sigma_sq * np.linalg.inv(X.T @ X)))\n",
    "\n",
    "        # Calculating the total sum of squares (tss)\n",
    "        tss = np.sum((y - np.mean(y)) ** 2)\n",
    "\n",
    "        # Calculating the residual sum of squares (rss)\n",
    "        rss = np.sum(residuals**2)\n",
    "\n",
    "        # Calculating the R-squared value (1 - rss/tss)\n",
    "        self.r_squared = 1 - (rss / tss)\n",
    "        pass\n",
    "\n",
    "    def predict(self, X):\n",
    "        pass  # To be implemented"
   ]
  },
  {
   "cell_type": "code",
   "execution_count": 10,
   "metadata": {},
   "outputs": [
    {
     "name": "stdout",
     "output_type": "stream",
     "text": [
      "Predicted Coefficients: [6.89106201 2.01147004 5.0747134 ]\n",
      "Actual Coefficients: [7, 2, 5]\n",
      "Standard Error Values: [0.12393877 0.12807298 0.12906425]\n",
      "R-squared: 0.947\n"
     ]
    }
   ],
   "source": [
    "# Fitting the model to the data\n",
    "model = RunMyLinearModel(X, y)\n",
    "\n",
    "# Printing the values generated\n",
    "print(\"Predicted Coefficients:\", model.coefficients)\n",
    "print(\"Actual Coefficients:\", [constant] + real_coefficients.tolist())\n",
    "print(\"Standard Error Values:\", model.std_err)\n",
    "print(f\"R-squared: {model.r_squared:.3f}\")"
   ]
  },
  {
   "cell_type": "markdown",
   "metadata": {},
   "source": [
    "> The R-squared is 0.95, which is pretty good!"
   ]
  },
  {
   "cell_type": "markdown",
   "metadata": {},
   "source": [
    "**(7)** Now we'll go ahead and cheat a little. Use `statsmodels` to fit your model with your toy data to ensure your standard errors and r-squared are correct!"
   ]
  },
  {
   "cell_type": "code",
   "execution_count": 11,
   "metadata": {},
   "outputs": [
    {
     "name": "stdout",
     "output_type": "stream",
     "text": [
      "StatsModels Predicted Coefficients: [6.89106201 2.01147004 5.0747134 ]\n",
      "StatsModels Actual Coefficients: [7, 2, 5]\n",
      "StatsModels Standard Error Values: [0.12393877 0.12807298 0.12906425]\n",
      "StatsNodels R-squared: 0.947\n"
     ]
    }
   ],
   "source": [
    "import statsmodels.api as sm\n",
    "\n",
    "# Adding a column of ones to include an intercept in the model\n",
    "X_sm = sm.add_constant(X)\n",
    "\n",
    "# Fittubg the model\n",
    "model_sm = sm.OLS(y, X_sm)\n",
    "results = model_sm.fit()\n",
    "\n",
    "# Print the standard errors and R-squared value\n",
    "print(\"StatsModels Predicted Coefficients:\", results.params)\n",
    "print(\"StatsModels Actual Coefficients:\", [constant] + real_coefficients.tolist())\n",
    "print(\"StatsModels Standard Error Values:\", results.bse)\n",
    "print(f\"StatsNodels R-squared: {results.rsquared:.3f}\")"
   ]
  },
  {
   "cell_type": "markdown",
   "metadata": {},
   "source": [
    ">These values are exactly the same as the ones we calculated above, so we know our code is working!"
   ]
  },
  {
   "cell_type": "markdown",
   "metadata": {},
   "source": [
    "**(8)** Now implement `predict`! Then test it against your original `X` data -- do you get back something very close to your true `y`?"
   ]
  },
  {
   "cell_type": "code",
   "execution_count": 12,
   "metadata": {},
   "outputs": [],
   "source": [
    "class MyLinearModel:\n",
    "    def __init__(self):\n",
    "        # To initialize the variables that we will use\n",
    "        self.coefficients = None\n",
    "        self.std_err = None\n",
    "        self.r_squared = None\n",
    "\n",
    "    def fit(self, X, y):\n",
    "        # To fit the model\n",
    "        # Adding a column of ones to include an intercept in the model - this will be dynamic based on the value of X passed\n",
    "        X = np.concatenate([np.ones((X.shape[0], 1)), X], axis=1)\n",
    "\n",
    "        # Getting the coefficients using the matrix multiplication (using linalg.inv for inverting the matrix)\n",
    "        self.coefficients = np.linalg.solve(X.T @ X, X.T @ y)\n",
    "\n",
    "        # Calculating the residuals\n",
    "        residuals = y - X @ self.coefficients\n",
    "\n",
    "        # Calculating the variance of the error terms\n",
    "        sigma_sq = np.var(residuals, ddof=X.shape[1])\n",
    "\n",
    "        # Calculating the standard errors of the estimated coefficients\n",
    "        self.std_err = np.sqrt(np.diag(sigma_sq * np.linalg.inv(X.T @ X)))\n",
    "\n",
    "        # Calculating the total sum of squares (tss)\n",
    "        tss = np.sum((y - np.mean(y)) ** 2)\n",
    "\n",
    "        # Calculating the residual sum of squares (rss)\n",
    "        rss = np.sum(residuals**2)\n",
    "\n",
    "        # Calculating the R-squared value (1 - rss/tss)\n",
    "        self.r_squared = 1 - (rss / tss)\n",
    "        pass\n",
    "\n",
    "    def predict(self, X):\n",
    "        # Adding a column of ones to include an intercept in the model - this will be dynamic based on the value of X passed\n",
    "        X = np.concatenate([np.ones((X.shape[0], 1)), X], axis=1)\n",
    "\n",
    "        # Predicting based on coefficients\n",
    "        y_pred = X @ self.coefficients\n",
    "\n",
    "        # Returning the predictions instead of storing them\n",
    "        return y_pred"
   ]
  },
  {
   "cell_type": "code",
   "execution_count": 13,
   "metadata": {},
   "outputs": [
    {
     "name": "stdout",
     "output_type": "stream",
     "text": [
      "Predicted Coefficients: [6.89106201 2.01147004 5.0747134 ]\n",
      "Actual Coefficients: [7, 2, 5]\n",
      "Standard Error Values: [0.12393877 0.12807298 0.12906425]\n",
      "R-squared: 0.947\n"
     ]
    }
   ],
   "source": [
    "# Fitting the model to the data\n",
    "model = RunMyLinearModel(X, y)\n",
    "# Making predictions\n",
    "y_pred = model.predict(X)\n",
    "\n",
    "# Printing the predictions\n",
    "print(\"Predicted Coefficients:\", model.coefficients)\n",
    "print(\"Actual Coefficients:\", [constant] + real_coefficients.tolist())\n",
    "print(\"Standard Error Values:\", model.std_err)\n",
    "print(f\"R-squared: {model.r_squared:.3f}\")"
   ]
  },
  {
   "cell_type": "code",
   "execution_count": 14,
   "metadata": {},
   "outputs": [
    {
     "name": "stdout",
     "output_type": "stream",
     "text": [
      "Predictions: [ 4.67488555 10.13765762  2.89904643 15.65451312  3.72969104  5.4687354\n",
      "  0.58903815  3.89457212  9.08506362 -9.59763014  6.45171373  2.61630615\n",
      "  3.00797746 -3.9728289   4.33615064  1.18240123  8.76522853  6.23946629\n",
      " 10.17894137 11.82503669 -0.24176624  8.13550391  3.54495831  5.79016894\n",
      "  5.690812    7.95952692  8.43461388  6.5988517   3.22815692 14.07790403\n",
      " 16.24730653  7.32680889  7.92689318 16.15752248 12.57130589  6.84252098\n",
      "  1.51507602  4.22389423  3.08425298 -1.25058292 13.38791957  5.50774805\n",
      " -2.110551    3.49227948  4.00434847  2.76758331 -0.63552377  1.46918169\n",
      "  9.47282262  6.07643769  9.08052771  6.08232149  6.23885124  1.96192567\n",
      " 11.31707489  0.86679565 -2.73726691  8.56994479  5.03224177 -3.74628307\n",
      " 11.9622173   2.90989582  6.24471567  0.72415388 10.55415828  2.78168784\n",
      "  7.31726225  7.21430235 10.35727411 -1.68783483  8.19697392  7.61715541\n",
      "  3.19117594  8.48792441  7.10948177 12.98873626 -2.81826726 10.71910082\n",
      " 12.11019192 -2.07789633  8.38308811  9.71759135  4.04272607 12.21308148\n",
      "  2.12082292 -1.38273535  4.66391025  5.42899177  5.45440958  0.57652995\n",
      " 13.4359805   7.81804323  2.24574619 -1.28560071 -1.64471062 11.57759272\n",
      "  4.57410926  2.72604648 -2.30184278  9.82583256]\n"
     ]
    }
   ],
   "source": [
    "print(\"Predictions:\", y_pred)"
   ]
  },
  {
   "cell_type": "code",
   "execution_count": 15,
   "metadata": {},
   "outputs": [
    {
     "name": "stdout",
     "output_type": "stream",
     "text": [
      "Actual y: [  4.50927806  10.3100495    3.45203253  14.5684045    4.10586853\n",
      "   5.55802806  -0.18450401   3.87414779   8.55893676 -10.02537764\n",
      "   7.4893469    2.24170708   1.90904507  -3.92061791   1.79030765\n",
      "   0.90083995   6.87151137   5.90306291   9.81753746  11.40247432\n",
      "   0.08201347   7.49391906   4.24166544   6.4631919    5.08290213\n",
      "   5.13794277   9.94447492   5.41971784   4.5756458   11.80216587\n",
      "  15.81115341   9.36516951   8.62946705  15.6445964   12.7758758\n",
      "   7.86711039   1.28453435   4.20622258   4.10407431  -2.34884398\n",
      "  16.3027574    6.02586884  -2.33771079   3.37799409   4.33894276\n",
      "   0.26042751  -0.70423086   1.42768183   9.16246936   6.20789263\n",
      "   9.21431135   6.22845353   5.14318114   3.26664248  12.18545335\n",
      "  -1.73429457  -3.82982137   7.0023214    4.65412774  -1.96774942\n",
      "  10.78789747   4.54664187   5.75083255   0.1529865   10.44582394\n",
      "   3.52697683   6.96051851   6.82339368  11.94226116  -0.63999793\n",
      "   9.58146449   6.96952485   3.39357948   8.96102926   5.6836968\n",
      "  14.38062787  -1.90624661  11.04899563  15.24951128  -0.05066118\n",
      "   8.45640876   9.66822319   4.4031758   11.16931287   2.75492673\n",
      "  -2.02314596   4.79558232   4.95963848   2.81118654   2.72542133\n",
      "  15.37931209   7.21623825   4.20909977  -1.33781011  -2.64990301\n",
      "  10.28657177   5.4064637    3.48153614  -3.82309017  10.78229533]\n"
     ]
    }
   ],
   "source": [
    "print(\"Actual y:\", y)"
   ]
  },
  {
   "cell_type": "markdown",
   "metadata": {},
   "source": [
    ">Creating a chart to compare these outputs as they are hard to follow"
   ]
  },
  {
   "cell_type": "code",
   "execution_count": 16,
   "metadata": {},
   "outputs": [
    {
     "data": {
      "image/png": "[encoded data removed]",
      "text/plain": [
       "<Figure size 640x480 with 1 Axes>"
      ]
     },
     "metadata": {},
     "output_type": "display_data"
    }
   ],
   "source": [
    "import matplotlib.pyplot as plt\n",
    "\n",
    "# Create a scatter plot of the actual vs. predicted values\n",
    "plt.scatter(y, y_pred)\n",
    "plt.xlabel(\"Actual Values\")\n",
    "plt.ylabel(\"Predicted Values\")\n",
    "plt.title(\"Actual vs. Predicted Values\")\n",
    "\n",
    "# Plot a diagonal line representing perfect predictions\n",
    "plt.plot([min(y), max(y)], [min(y), max(y)], color=\"red\")\n",
    "\n",
    "plt.show()"
   ]
  },
  {
   "cell_type": "markdown",
   "metadata": {},
   "source": [
    "**(9)** Finally, create the *option* of fitting the model with or without a constant term. In other words, create an option so that, if the user passes a numpy array *without* a constant term, your code will add a vector of 1s before fitting the model. As in `scikit-learn`, make this an option you set during initialization. "
   ]
  },
  {
   "cell_type": "code",
   "execution_count": 17,
   "metadata": {},
   "outputs": [],
   "source": [
    "class MyLinearModel:\n",
    "    def __init__(self, const=True):\n",
    "        # To initialize the variables that we will use\n",
    "        self.coefficients = None\n",
    "        self.std_err = None\n",
    "        self.r_squared = None\n",
    "        self.const = const\n",
    "\n",
    "    def fit(self, X, y):\n",
    "        # To fit the model\n",
    "\n",
    "        # Check if X already includes a column of ones\n",
    "        if self.const:\n",
    "            # Adding a column of ones to include an intercept in the model - this will be dynamic based on the value of X passed\n",
    "            X = np.concatenate([np.ones((X.shape[0], 1)), X], axis=1)\n",
    "\n",
    "        # Getting the coefficients using the matrix multiplication (using linalg.inv for inverting the matrix)\n",
    "        self.coefficients = np.linalg.solve(X.T @ X, X.T @ y)\n",
    "\n",
    "        # Calculating the residuals\n",
    "        residuals = y - X @ self.coefficients\n",
    "\n",
    "        # Calculating the variance of the error terms\n",
    "        sigma_sq = np.var(residuals, ddof=X.shape[1])\n",
    "\n",
    "        # Calculating the standard errors of the estimated coefficients\n",
    "        self.std_err = np.sqrt(np.diag(sigma_sq * np.linalg.inv(X.T @ X)))\n",
    "\n",
    "        # Calculating the total sum of squares (tss)\n",
    "        tss = np.sum((y - np.mean(y)) ** 2)\n",
    "\n",
    "        # Calculating the residual sum of squares (rss)\n",
    "        rss = np.sum(residuals**2)\n",
    "\n",
    "        # Calculating the R-squared value (1 - rss/tss)\n",
    "        self.r_squared = 1 - (rss / tss)\n",
    "\n",
    "    def predict(self, X):\n",
    "        # Check if X already includes a column of ones\n",
    "        if self.const:\n",
    "            # Adding a column of ones to include an intercept in the model - this will be dynamic based on the value of X passed\n",
    "            X = np.concatenate([np.ones((X.shape[0], 1)), X], axis=1)\n",
    "\n",
    "        # Predicting based on coefficients\n",
    "        y_pred = X @ self.coefficients\n",
    "\n",
    "        # Returning the predictions instead of storing them\n",
    "        return y_pred"
   ]
  },
  {
   "cell_type": "code",
   "execution_count": 18,
   "metadata": {},
   "outputs": [
    {
     "name": "stdout",
     "output_type": "stream",
     "text": [
      "----------------------------------------\n",
      "For the model with Constant False:\n",
      "Predicted Coefficients: [6.89106201 2.01147004 5.0747134 ]\n",
      "Actual Coefficients: [7, 2, 5]\n",
      "Standard Error Values: [0.12393877 0.12807298 0.12906425]\n",
      "R-squared: 0.947\n",
      "----------------------------------------\n",
      "For the model with Constant True:\n",
      "Predicted Coefficients: [6.89106201 2.01147004 5.0747134 ]\n",
      "Actual Coefficients: [7, 2, 5]\n",
      "Standard Error Values: [0.12393877 0.12807298 0.12906425]\n",
      "R-squared: 0.947\n",
      "----------------------------------------\n"
     ]
    }
   ],
   "source": [
    "# Creating X1 with a column of ones as the first column\n",
    "X1 = np.concatenate([np.ones((X.shape[0], 1)), X], axis=1)\n",
    "\n",
    "# Create an instance of MyLinearModel\n",
    "model_WithConstant = MyLinearModel(const=False)\n",
    "\n",
    "# Fit the model to the data with a constant term\n",
    "model_WithConstant.fit(X1, y)\n",
    "\n",
    "model = RunMyLinearModel(X, y)\n",
    "# Printing the predictions\n",
    "print(\"----------------------------------------\")\n",
    "print(\"For the model with Constant False:\")\n",
    "print(\"Predicted Coefficients:\", model.coefficients)\n",
    "print(\"Actual Coefficients:\", [constant] + real_coefficients.tolist())\n",
    "print(\"Standard Error Values:\", model.std_err)\n",
    "print(f\"R-squared: {model.r_squared:.3f}\")\n",
    "\n",
    "# Printing the predictions\n",
    "print(\"----------------------------------------\")\n",
    "print(\"For the model with Constant True:\")\n",
    "print(\"Predicted Coefficients:\", model_WithConstant.coefficients)\n",
    "print(\"Actual Coefficients:\", [constant] + real_coefficients.tolist())\n",
    "print(\"Standard Error Values:\", model_WithConstant.std_err)\n",
    "print(f\"R-squared: {model_WithConstant.r_squared:.3f}\")\n",
    "print(\"----------------------------------------\")"
   ]
  },
  {
   "cell_type": "markdown",
   "metadata": {},
   "source": [
    ">Since the values are same for the model witha nd without the constant, we know our code is working!"
   ]
  }
 ],
 "metadata": {
  "kernelspec": {
   "display_name": "Python 3",
   "language": "python",
   "name": "python3"
  },
  "language_info": {
   "codemirror_mode": {
    "name": "ipython",
    "version": 3
   },
   "file_extension": ".py",
   "mimetype": "text/x-python",
   "name": "python",
   "nbconvert_exporter": "python",
   "pygments_lexer": "ipython3",
   "version": "3.11.5"
  }
 },
 "nbformat": 4,
 "nbformat_minor": 4
}
